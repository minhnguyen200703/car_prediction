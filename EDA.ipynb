{
 "cells": [
  {
   "cell_type": "markdown",
   "id": "d88f3e30-e04f-4fac-9ffc-d0aa9f2510d1",
   "metadata": {},
   "source": [
    "# EDA"
   ]
  },
  {
   "cell_type": "markdown",
   "id": "44f8adfb-5685-4512-a2f6-e627ea8327f3",
   "metadata": {},
   "source": [
    "### Import libs and data"
   ]
  },
  {
   "cell_type": "code",
   "execution_count": 3,
   "id": "67dd71e0-9fb0-4fca-8438-9cd56a5b5dfb",
   "metadata": {},
   "outputs": [],
   "source": [
    "import pandas as pd\n",
    "import numpy as np\n",
    "import matplotlib.pyplot as plt\n",
    "import seaborn as sns\n",
    "\n",
    "df_car = pd.read_csv('cleaned_car.csv')\n"
   ]
  },
  {
   "cell_type": "markdown",
   "id": "cf571681-0a18-4c62-83ae-78fd609304ea",
   "metadata": {},
   "source": [
    "### Q1: How does mileage relate to car price? Is there a clear negative correlation?"
   ]
  },
  {
   "cell_type": "code",
   "execution_count": null,
   "id": "d64bed57-c297-4507-ba41-c79acfa9661d",
   "metadata": {},
   "outputs": [],
   "source": []
  },
  {
   "cell_type": "markdown",
   "id": "4f3b8dd9-cf01-4a19-9645-3374e6c65f02",
   "metadata": {},
   "source": [
    "### Q2: Does the fuel type (petrol, diesel, etc.) have a noticeable impact on price?"
   ]
  },
  {
   "cell_type": "code",
   "execution_count": null,
   "id": "de7be0ea-9e78-402f-af48-a894c3d92ceb",
   "metadata": {},
   "outputs": [],
   "source": []
  },
  {
   "cell_type": "markdown",
   "id": "ed0ae885-9661-4812-a668-fd7595c5a225",
   "metadata": {},
   "source": [
    "### Q3: How to compare two cars in the same segment?"
   ]
  },
  {
   "cell_type": "code",
   "execution_count": null,
   "id": "08fc28c4-5c87-46b5-a1ed-9d60bd218f9b",
   "metadata": {},
   "outputs": [],
   "source": []
  }
 ],
 "metadata": {
  "kernelspec": {
   "display_name": "Python 3 (ipykernel)",
   "language": "python",
   "name": "python3"
  },
  "language_info": {
   "codemirror_mode": {
    "name": "ipython",
    "version": 3
   },
   "file_extension": ".py",
   "mimetype": "text/x-python",
   "name": "python",
   "nbconvert_exporter": "python",
   "pygments_lexer": "ipython3",
   "version": "3.11.7"
  }
 },
 "nbformat": 4,
 "nbformat_minor": 5
}
